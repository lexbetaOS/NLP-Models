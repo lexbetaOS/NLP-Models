{
  "nbformat": 4,
  "nbformat_minor": 0,
  "metadata": {
    "colab": {
      "name": "main3.ipynb",
      "version": "0.3.2",
      "provenance": [],
      "collapsed_sections": [],
      "toc_visible": true,
      "include_colab_link": true
    },
    "kernelspec": {
      "name": "python3",
      "display_name": "Python 3"
    }
  },
  "cells": [
    {
      "cell_type": "markdown",
      "metadata": {
        "id": "view-in-github",
        "colab_type": "text"
      },
      "source": [
        "<a href=\"https://colab.research.google.com/github/lexbetaOS/NLP-Models/blob/master/src/main.ipynb\" target=\"_parent\"><img src=\"https://colab.research.google.com/assets/colab-badge.svg\" alt=\"Open In Colab\"/></a>"
      ]
    },
    {
      "cell_type": "markdown",
      "metadata": {
        "id": "sby3p2UdmBe6",
        "colab_type": "text"
      },
      "source": [
        "# **LIBARIES' IMPORT**"
      ]
    },
    {
      "cell_type": "code",
      "metadata": {
        "id": "FEKiyady-Ues",
        "colab_type": "code",
        "outputId": "a8b0f02b-6a2c-441c-c5b5-8ca01eb06663",
        "colab": {
          "base_uri": "https://localhost:8080/",
          "height": 51
        }
      },
      "source": [
        "cd /content/gdrive/My\\ Drive/Colab\\ Notebooks/lda2vec/"
      ],
      "execution_count": 0,
      "outputs": [
        {
          "output_type": "stream",
          "text": [
            "[Errno 2] No such file or directory: '/content/gdrive/My Drive/Colab Notebooks/lda2vec/'\n",
            "/content\n"
          ],
          "name": "stdout"
        }
      ]
    },
    {
      "cell_type": "code",
      "metadata": {
        "id": "2ty2WXQM9tQn",
        "colab_type": "code",
        "outputId": "6c74d09d-8e31-4fcb-deb7-34bf93f9e204",
        "colab": {
          "base_uri": "https://localhost:8080/",
          "height": 34
        }
      },
      "source": [
        "pwd"
      ],
      "execution_count": 0,
      "outputs": [
        {
          "output_type": "execute_result",
          "data": {
            "text/plain": [
              "'/content'"
            ]
          },
          "metadata": {
            "tags": []
          },
          "execution_count": 2
        }
      ]
    },
    {
      "cell_type": "code",
      "metadata": {
        "id": "WffvX2lsSHpI",
        "colab_type": "code",
        "colab": {}
      },
      "source": [
        "cat "
      ],
      "execution_count": 0,
      "outputs": []
    },
    {
      "cell_type": "code",
      "metadata": {
        "id": "D8CQFhY6kDzc",
        "colab_type": "code",
        "outputId": "f310b11c-31e8-4e1c-bc3f-fc92d0967555",
        "colab": {
          "base_uri": "https://localhost:8080/",
          "height": 649
        }
      },
      "source": [
        "import pandas as pd\n",
        "import numpy as np\n",
        "import tensorflow as tf\n",
        "from collections import Counter\n",
        "#from sklearn.datasets import fetch_20newsgroups\n",
        "import re\n",
        "import string\n",
        "from pprint import pprint\n",
        "                                                           \n",
        "import matplotlib.pyplot as plt\n",
        "\n",
        "# Gensim\n",
        "import gensim\n",
        "import gensim.corpora as corpora\n",
        "from gensim.utils import simple_preprocess\n",
        "from gensim.models import CoherenceModel\n",
        "\n",
        "\n",
        "import nltk\n",
        "nltk.download('stopwords')\n",
        "from nltk.corpus import stopwords\n",
        "from nltk.stem.snowball import SpanishStemmer\n",
        "\n",
        "!pip install stop_words\n",
        "!python -m spacy download es\n",
        "!python -m spacy download es_core_news_sm\n",
        "from stop_words import get_stop_words\n",
        "\n",
        "# spacy for lemmatization\n",
        "import spacy\n"
      ],
      "execution_count": 1,
      "outputs": [
        {
          "output_type": "stream",
          "text": [
            "[nltk_data] Downloading package stopwords to /root/nltk_data...\n",
            "[nltk_data]   Unzipping corpora/stopwords.zip.\n",
            "Collecting stop_words\n",
            "  Downloading https://files.pythonhosted.org/packages/1c/cb/d58290804b7a4c5daa42abbbe2a93c477ae53e45541b1825e86f0dfaaf63/stop-words-2018.7.23.tar.gz\n",
            "Building wheels for collected packages: stop-words\n",
            "  Building wheel for stop-words (setup.py) ... \u001b[?25l\u001b[?25hdone\n",
            "  Stored in directory: /root/.cache/pip/wheels/75/37/6a/2b295e03bd07290f0da95c3adb9a74ba95fbc333aa8b0c7c78\n",
            "Successfully built stop-words\n",
            "Installing collected packages: stop-words\n",
            "Successfully installed stop-words-2018.7.23\n",
            "Collecting es_core_news_sm==2.0.0 from https://github.com/explosion/spacy-models/releases/download/es_core_news_sm-2.0.0/es_core_news_sm-2.0.0.tar.gz#egg=es_core_news_sm==2.0.0\n",
            "\u001b[?25l  Downloading https://github.com/explosion/spacy-models/releases/download/es_core_news_sm-2.0.0/es_core_news_sm-2.0.0.tar.gz (36.7MB)\n",
            "\u001b[K     |████████████████████████████████| 36.7MB 1.2MB/s \n",
            "\u001b[?25hBuilding wheels for collected packages: es-core-news-sm\n",
            "  Building wheel for es-core-news-sm (setup.py) ... \u001b[?25l\u001b[?25hdone\n",
            "  Stored in directory: /tmp/pip-ephem-wheel-cache-7c35eksz/wheels/9e/28/c4/df4980946eb229379ed26d349566e427fa029dbf03546ccb94\n",
            "Successfully built es-core-news-sm\n",
            "Installing collected packages: es-core-news-sm\n",
            "Successfully installed es-core-news-sm-2.0.0\n",
            "\n",
            "\u001b[93m    Linking successful\u001b[0m\n",
            "    /usr/local/lib/python3.6/dist-packages/es_core_news_sm -->\n",
            "    /usr/local/lib/python3.6/dist-packages/spacy/data/es\n",
            "\n",
            "    You can now load the model via spacy.load('es')\n",
            "\n",
            "Requirement already satisfied: es_core_news_sm==2.0.0 from https://github.com/explosion/spacy-models/releases/download/es_core_news_sm-2.0.0/es_core_news_sm-2.0.0.tar.gz#egg=es_core_news_sm==2.0.0 in /usr/local/lib/python3.6/dist-packages (2.0.0)\n",
            "\n",
            "\u001b[93m    Linking successful\u001b[0m\n",
            "    /usr/local/lib/python3.6/dist-packages/es_core_news_sm -->\n",
            "    /usr/local/lib/python3.6/dist-packages/spacy/data/es_core_news_sm\n",
            "\n",
            "    You can now load the model via spacy.load('es_core_news_sm')\n",
            "\n"
          ],
          "name": "stdout"
        }
      ]
    },
    {
      "cell_type": "code",
      "metadata": {
        "id": "-MMocHQi_EZE",
        "colab_type": "code",
        "outputId": "52161f51-45fa-4326-ab3b-95e25ef5945e",
        "colab": {
          "base_uri": "https://localhost:8080/",
          "height": 34
        }
      },
      "source": [
        "np.__version__"
      ],
      "execution_count": 0,
      "outputs": [
        {
          "output_type": "execute_result",
          "data": {
            "text/plain": [
              "'1.16.3'"
            ]
          },
          "metadata": {
            "tags": []
          },
          "execution_count": 8
        }
      ]
    },
    {
      "cell_type": "code",
      "metadata": {
        "id": "XtXi8UtqCYmP",
        "colab_type": "code",
        "colab": {}
      },
      "source": [
        "#utils\n",
        "from md_utils import graph_error_models,category_to_target,corpus_to_input"
      ],
      "execution_count": 0,
      "outputs": []
    },
    {
      "cell_type": "markdown",
      "metadata": {
        "id": "GTGoeOOemNjV",
        "colab_type": "text"
      },
      "source": [
        "# ***LOAD AND EXPLORED DATA***"
      ]
    },
    {
      "cell_type": "code",
      "metadata": {
        "id": "PmvTxKqpq1C-",
        "colab_type": "code",
        "outputId": "617385c8-f2c9-4a5d-d739-2c4de6df541f",
        "colab": {
          "base_uri": "https://localhost:8080/",
          "height": 122
        }
      },
      "source": [
        "from google.colab import drive\n",
        "drive.mount('/content/gdrive/')"
      ],
      "execution_count": 0,
      "outputs": [
        {
          "output_type": "stream",
          "text": [
            "Go to this URL in a browser: https://accounts.google.com/o/oauth2/auth?client_id=947318989803-6bn6qk8qdgf4n4g3pfee6491hc0brc4i.apps.googleusercontent.com&redirect_uri=urn%3Aietf%3Awg%3Aoauth%3A2.0%3Aoob&scope=email%20https%3A%2F%2Fwww.googleapis.com%2Fauth%2Fdocs.test%20https%3A%2F%2Fwww.googleapis.com%2Fauth%2Fdrive%20https%3A%2F%2Fwww.googleapis.com%2Fauth%2Fdrive.photos.readonly%20https%3A%2F%2Fwww.googleapis.com%2Fauth%2Fpeopleapi.readonly&response_type=code\n",
            "\n",
            "Enter your authorization code:\n",
            "··········\n",
            "Mounted at /content/gdrive/\n"
          ],
          "name": "stdout"
        }
      ]
    },
    {
      "cell_type": "code",
      "metadata": {
        "id": "rRKGeAtclCLk",
        "colab_type": "code",
        "outputId": "a54c2284-2098-41e2-c0d6-9fd5b05439f6",
        "colab": {
          "base_uri": "https://localhost:8080/",
          "height": 377
        }
      },
      "source": [
        "df1 = pd.read_csv('/content/gdrive/My Drive/Colab Notebooks/lda2vec/out_AVP.csv')\n",
        "print(\"Total de datos\",len(df1))\n",
        "df1.head(4)"
      ],
      "execution_count": 0,
      "outputs": [
        {
          "output_type": "stream",
          "text": [
            "Total de datos 5936\n"
          ],
          "name": "stdout"
        },
        {
          "output_type": "execute_result",
          "data": {
            "text/html": [
              "<div>\n",
              "<style scoped>\n",
              "    .dataframe tbody tr th:only-of-type {\n",
              "        vertical-align: middle;\n",
              "    }\n",
              "\n",
              "    .dataframe tbody tr th {\n",
              "        vertical-align: top;\n",
              "    }\n",
              "\n",
              "    .dataframe thead th {\n",
              "        text-align: right;\n",
              "    }\n",
              "</style>\n",
              "<table border=\"1\" class=\"dataframe\">\n",
              "  <thead>\n",
              "    <tr style=\"text-align: right;\">\n",
              "      <th></th>\n",
              "      <th>Unnamed: 0</th>\n",
              "      <th>Document_No</th>\n",
              "      <th>Dominant_Topic</th>\n",
              "      <th>Topic_Perc_Contrib</th>\n",
              "      <th>Keywords</th>\n",
              "      <th>Text</th>\n",
              "      <th>Asunto</th>\n",
              "      <th>Clasificacion</th>\n",
              "    </tr>\n",
              "  </thead>\n",
              "  <tbody>\n",
              "    <tr>\n",
              "      <th>0</th>\n",
              "      <td>0</td>\n",
              "      <td>0</td>\n",
              "      <td>1.0</td>\n",
              "      <td>0.7493</td>\n",
              "      <td>consultar, bnf, solicitud, evaluacion, retenci...</td>\n",
              "      <td>['nuevo', 'webpyme']</td>\n",
              "      <td>RE: ***Nueva WEBPYME***</td>\n",
              "      <td>Consulta</td>\n",
              "    </tr>\n",
              "    <tr>\n",
              "      <th>1</th>\n",
              "      <td>1</td>\n",
              "      <td>1</td>\n",
              "      <td>0.0</td>\n",
              "      <td>0.8473</td>\n",
              "      <td>cliente, eirl, diverso, idc, rebajar, peru, ta...</td>\n",
              "      <td>['tupaq', 'tour', 'peru', 'sac']</td>\n",
              "      <td>TUPAQ TOURS PERU SAC| RUC 20601204496</td>\n",
              "      <td>Consulta</td>\n",
              "    </tr>\n",
              "    <tr>\n",
              "      <th>2</th>\n",
              "      <td>2</td>\n",
              "      <td>2</td>\n",
              "      <td>1.0</td>\n",
              "      <td>0.7493</td>\n",
              "      <td>consultar, bnf, solicitud, evaluacion, retenci...</td>\n",
              "      <td>['nuevo', 'webpyme']</td>\n",
              "      <td>RE: ***Nueva WEBPYME***</td>\n",
              "      <td>Consulta</td>\n",
              "    </tr>\n",
              "    <tr>\n",
              "      <th>3</th>\n",
              "      <td>3</td>\n",
              "      <td>3</td>\n",
              "      <td>3.0</td>\n",
              "      <td>0.4487</td>\n",
              "      <td>plan, cambiar, dni, cliente, respuesta_automat...</td>\n",
              "      <td>['macro', 'retención', 'desactualizada', 'pers...</td>\n",
              "      <td>RE: Macro Retenciones Desactualizada// URG (pe...</td>\n",
              "      <td>Consulta</td>\n",
              "    </tr>\n",
              "  </tbody>\n",
              "</table>\n",
              "</div>"
            ],
            "text/plain": [
              "   Unnamed: 0  ...  Clasificacion\n",
              "0           0  ...       Consulta\n",
              "1           1  ...       Consulta\n",
              "2           2  ...       Consulta\n",
              "3           3  ...       Consulta\n",
              "\n",
              "[4 rows x 8 columns]"
            ]
          },
          "metadata": {
            "tags": []
          },
          "execution_count": 26
        }
      ]
    },
    {
      "cell_type": "code",
      "metadata": {
        "id": "7TWJ8-A5Mvrl",
        "colab_type": "code",
        "outputId": "6246e174-24d4-445d-ed13-97c93f0126af",
        "colab": {
          "base_uri": "https://localhost:8080/",
          "height": 102
        }
      },
      "source": [
        "t1\n",
        "\n",
        "\n",
        "print(\"Total de \",t1)\n",
        "print(sum(df1['Clasificacion']=='Cambio de plan'))\n",
        "print(sum(df1['Clasificacion']=='Creditos'))\n",
        "print(sum(df1['Clasificacion']=='Excepcion'))"
      ],
      "execution_count": 0,
      "outputs": [
        {
          "output_type": "stream",
          "text": [
            "Total de datos 5936\n",
            "Total de  1132\n",
            "732\n",
            "160\n",
            "3912\n"
          ],
          "name": "stdout"
        }
      ]
    },
    {
      "cell_type": "code",
      "metadata": {
        "id": "xnoSBx_slVUv",
        "colab_type": "code",
        "colab": {}
      },
      "source": [
        "da = df1.Clasificacion.values.tolist()\n",
        "t1=sum([(d=='Consulta') for d in da])\n",
        "t2=sum([(d=='Cambio de plan') for d in da])\n",
        "t3=sum([(d=='Creditos') for d in da])\n",
        "t4=sum([(d=='Excepcion') for d in da])\n",
        "temp=[('Consulta',t1),('Cambio de plan',t2),('Creditos',t3),('Excepcion',t4)]"
      ],
      "execution_count": 0,
      "outputs": []
    },
    {
      "cell_type": "code",
      "metadata": {
        "id": "xdSf5U9oN6wd",
        "colab_type": "code",
        "outputId": "97e57863-dbef-483c-d9cc-02ffa56bc3a6",
        "colab": {
          "base_uri": "https://localhost:8080/",
          "height": 34
        }
      },
      "source": [
        "da=='Consulta'"
      ],
      "execution_count": 0,
      "outputs": [
        {
          "output_type": "execute_result",
          "data": {
            "text/plain": [
              "False"
            ]
          },
          "metadata": {
            "tags": []
          },
          "execution_count": 25
        }
      ]
    },
    {
      "cell_type": "code",
      "metadata": {
        "id": "yrcI8pGXmqmp",
        "colab_type": "code",
        "outputId": "356b9e92-8d59-4079-9961-637d14f8654b",
        "colab": {
          "base_uri": "https://localhost:8080/",
          "height": 269
        }
      },
      "source": [
        "labels, ys = zip(*temp)\n",
        "xs = np.arange(len(labels)) \n",
        "width = 1\n",
        "\n",
        "plt.bar(xs, ys, width, align='center')\n",
        "\n",
        "plt.xticks(xs, labels) #Replace default x-ticks with xs, then replace xs with labels\n",
        "plt.yticks(ys)\n",
        "plt.show()\n",
        "#plt.savefig('netscore.png')"
      ],
      "execution_count": 0,
      "outputs": [
        {
          "output_type": "display_data",
          "data": {
            "image/png": "[encoded data removed]",
            "text/plain": [
              "<Figure size 432x288 with 1 Axes>"
            ]
          },
          "metadata": {
            "tags": []
          }
        }
      ]
    },
    {
      "cell_type": "markdown",
      "metadata": {
        "id": "NFALvCmFpg6y",
        "colab_type": "text"
      },
      "source": [
        "# ***DATA CLEANING***"
      ]
    },
    {
      "cell_type": "code",
      "metadata": {
        "id": "7zHelQI0pCpA",
        "colab_type": "code",
        "colab": {}
      },
      "source": [
        "data1 = df1.Asunto.values.tolist()\n",
        "\n",
        "data1 = [re.sub('\\S*@\\S*\\s?', '', sent) for sent in data1]\n",
        "data1 = [re.sub(r\"http\\S+\", \"\", sent) for sent in data1]\n",
        "data1 = [re.sub(r\"(<[^>]*>)\", \" \", sent) for sent in data1]\n",
        "#data1 = [re.sub(\"[^a-zA-Z]+\", \" \", sent) for sent in data1]\n",
        "data1 = [re.sub(r\"({[^}]*})\", \" \", sent) for sent in data1]\n",
        "data1 = [re.sub('\\s+', ' ', sent) for sent in data1]\n",
        "data1 = [re.sub(\"\\'\", \"\", sent) for sent in data1]\n",
        "data1 = [re.sub(\"\\*\", \"\", sent) for sent in data1]\n",
        "data1 = [re.sub(\"\\/\", \"\", sent) for sent in data1]\n",
        "data1 = [re.sub(\"\\(\", \"\", sent) for sent in data1]\n",
        "data1 = [re.sub(\"\\)\", \"\", sent) for sent in data1]\n",
        "data1 = [re.sub(\"\\!\", \"\", sent) for sent in data1]\n",
        "data1 = [re.sub(\"\\-\", \"\", sent) for sent in data1]\n",
        "data1 = [re.sub(r\"(\\[.*?\\])\", \" \", sent) for sent in data1]\n",
        "data1 = [re.sub(r\"(RE:[^\\w])\", \"\", sent) for sent in data1]\n",
        "data1 = [re.sub(r\"(RV:[^\\w])\", \"\", sent) for sent in data1]\n",
        "data1 = [re.sub(r\"([\\d\\.])\", \"\", sent) for sent in data1]\n",
        "data1 = [re.sub(\"\\:\", \"\", sent) for sent in data1]"
      ],
      "execution_count": 0,
      "outputs": []
    },
    {
      "cell_type": "markdown",
      "metadata": {
        "id": "n1fA3mhYqLzW",
        "colab_type": "text"
      },
      "source": [
        "# ***CREATING TOKENS, N-GRAMS AND DICTIONARY***"
      ]
    },
    {
      "cell_type": "code",
      "metadata": {
        "id": "O7hJRBT-qxGw",
        "colab_type": "code",
        "outputId": "2b36e120-8a9b-47bb-a4ab-c2de84f83c8f",
        "colab": {
          "base_uri": "https://localhost:8080/",
          "height": 34
        }
      },
      "source": [
        "stopwords_es = set(stopwords.words('spanish'))\n",
        "stopwords_es_sw = set(get_stop_words('spanish'))\n",
        "\n",
        "stopSpanish = set(stopwords_es.union(stopwords_es_sw))\n",
        "\n",
        "stopSpanish = list(stopSpanish)\n",
        "\n",
        "print(type(stopSpanish),len(stopSpanish))"
      ],
      "execution_count": 0,
      "outputs": [
        {
          "output_type": "stream",
          "text": [
            "<class 'list'> 317\n"
          ],
          "name": "stdout"
        }
      ]
    },
    {
      "cell_type": "code",
      "metadata": {
        "id": "dS8UhR-dqW10",
        "colab_type": "code",
        "outputId": "317c87e2-c93d-475b-95f7-551d42405cc7",
        "colab": {
          "base_uri": "https://localhost:8080/",
          "height": 34
        }
      },
      "source": [
        "#Tokenizacion\n",
        "def sent_to_words(sentences):\n",
        "    for sentence in sentences:\n",
        "        yield(gensim.utils.simple_preprocess(str(sentence), deacc=True))  # deacc=True Elimina puntuaciones\n",
        "\n",
        "data_words = list(sent_to_words(data1))\n",
        "\n",
        "print(data_words[:2])"
      ],
      "execution_count": 0,
      "outputs": [
        {
          "output_type": "stream",
          "text": [
            "[['nueva', 'webpyme'], ['tupaq', 'tours', 'peru', 'sac', 'ruc']]\n"
          ],
          "name": "stdout"
        }
      ]
    },
    {
      "cell_type": "code",
      "metadata": {
        "id": "ST0T1w_rqncL",
        "colab_type": "code",
        "outputId": "e63e1804-e806-4ea3-bd5b-a54d7c619df5",
        "colab": {
          "base_uri": "https://localhost:8080/",
          "height": 122
        }
      },
      "source": [
        "%%time\n",
        "# Build the bigram and trigram models\n",
        "bigram = gensim.models.Phrases(data_words, min_count=5, threshold=100) # higher threshold fewer phrases.\n",
        "trigram = gensim.models.Phrases(bigram[data_words], threshold=100)  \n",
        "\n",
        "# Faster way to get a sentence clubbed as a trigram/bigram\n",
        "bigram_mod = gensim.models.phrases.Phraser(bigram)\n",
        "trigram_mod = gensim.models.phrases.Phraser(trigram)\n",
        "\n",
        "# See trigram example\n",
        "print(trigram_mod[bigram_mod[data_words[1]]])"
      ],
      "execution_count": 0,
      "outputs": [
        {
          "output_type": "stream",
          "text": [
            "/usr/local/lib/python3.6/dist-packages/gensim/models/phrases.py:598: UserWarning: For a faster implementation, use the gensim.models.phrases.Phraser class\n",
            "  warnings.warn(\"For a faster implementation, use the gensim.models.phrases.Phraser class\")\n"
          ],
          "name": "stderr"
        },
        {
          "output_type": "stream",
          "text": [
            "['tupaq', 'tours', 'peru', 'sac', 'ruc']\n",
            "CPU times: user 593 ms, sys: 5.53 ms, total: 598 ms\n",
            "Wall time: 605 ms\n"
          ],
          "name": "stdout"
        }
      ]
    },
    {
      "cell_type": "code",
      "metadata": {
        "id": "3mMrxnpFqqk4",
        "colab_type": "code",
        "colab": {}
      },
      "source": [
        "# Define functions for stopwords, bigrams, trigrams and lemmatization\n",
        "def remove_stopwords(texts):\n",
        "    return [[word for word in simple_preprocess(str(doc)) if word not in stopSpanish] for doc in texts]\n",
        "\n",
        "def make_bigrams(texts):\n",
        "    return [bigram_mod[doc] for doc in texts]\n",
        "\n",
        "def make_trigrams(texts):\n",
        "    return [trigram_mod[bigram_mod[doc]] for doc in texts]\n",
        "\n",
        "def lemmatization(texts, allowed_postags=['NOUN', 'ADJ', 'VERB', 'ADV']):\n",
        "    \"\"\"https://spacy.io/api/annotation\"\"\"\n",
        "    texts_out = []\n",
        "    for sent in texts:\n",
        "        doc = nlp(\" \".join(sent)) \n",
        "        texts_out.append([token.lemma_ for token in doc if token.pos_ in allowed_postags])\n",
        "    return texts_out"
      ],
      "execution_count": 0,
      "outputs": []
    },
    {
      "cell_type": "code",
      "metadata": {
        "id": "ZHH-Qs4AqupW",
        "colab_type": "code",
        "outputId": "839f1257-7bd0-44a7-8bb1-eeba138d1428",
        "colab": {
          "base_uri": "https://localhost:8080/",
          "height": 68
        }
      },
      "source": [
        "%%time\n",
        "# Remove Stop Words\n",
        "data_words_nostops = remove_stopwords(data_words)\n",
        "\n",
        "# Form Bigrams\n",
        "data_words_bigrams = make_bigrams(data_words_nostops)\n",
        "#data_words_trigrams = make_trigrams(data_words_bigrams)\n",
        "# Initialize spacy 'en' model, keeping only tagger component (for efficiency)\n",
        "# python3 -m spacy download en\n",
        "#nlp = spacy.load('en', disable=['parser', 'ner'])\n",
        "nlp = spacy.load('es_core_news_sm', disable=['parser', 'ner'])\n",
        "\n",
        "# Do lemmatization keeping only noun, adj, vb, adv\n",
        "data_lemmatized = lemmatization(data_words_bigrams, allowed_postags=['NOUN', 'ADJ', 'VERB', 'ADV'])\n",
        "\n",
        "print(data_lemmatized[:1])"
      ],
      "execution_count": 0,
      "outputs": [
        {
          "output_type": "stream",
          "text": [
            "[['nuevo', 'webpyme']]\n",
            "CPU times: user 34.2 s, sys: 15.7 s, total: 49.8 s\n",
            "Wall time: 26 s\n"
          ],
          "name": "stdout"
        }
      ]
    },
    {
      "cell_type": "code",
      "metadata": {
        "id": "XTDLCh6tq4s0",
        "colab_type": "code",
        "outputId": "73638af4-d4c0-4b39-b664-1bb4c021a1f2",
        "colab": {
          "base_uri": "https://localhost:8080/",
          "height": 34
        }
      },
      "source": [
        "# Create Dictionary\n",
        "id2word = corpora.Dictionary(data_lemmatized)\n",
        "\n",
        "# Create Corpus\n",
        "texts = data_lemmatized\n",
        "\n",
        "# Term Document Frequency\n",
        "corpus = [id2word.doc2bow(text) for text in texts]\n",
        "\n",
        "# View\n",
        "print(corpus[:1])"
      ],
      "execution_count": 0,
      "outputs": [
        {
          "output_type": "stream",
          "text": [
            "[[(0, 1), (1, 1)]]\n"
          ],
          "name": "stdout"
        }
      ]
    },
    {
      "cell_type": "code",
      "metadata": {
        "id": "RHlplfPwtJof",
        "colab_type": "code",
        "outputId": "4b79c91e-bea9-45ca-cc44-c6b3a345a899",
        "colab": {
          "base_uri": "https://localhost:8080/",
          "height": 102
        }
      },
      "source": [
        "# Human readable format of corpus (term-frequency)\n",
        "[[(id2word[id], freq) for id, freq in cp] for cp in corpus[:5]]"
      ],
      "execution_count": 0,
      "outputs": [
        {
          "output_type": "execute_result",
          "data": {
            "text/plain": [
              "[[('nuevo', 1), ('webpyme', 1)],\n",
              " [('peru', 1), ('sac', 1), ('tour', 1), ('tupaq', 1)],\n",
              " [('nuevo', 1), ('webpyme', 1)],\n",
              " [('desactualizada', 1), ('macro', 1), ('persistir', 1), ('retención', 1)],\n",
              " [('macro', 1), ('retención', 1), ('error', 1), ('tsn', 1)]]"
            ]
          },
          "metadata": {
            "tags": []
          },
          "execution_count": 16
        }
      ]
    },
    {
      "cell_type": "markdown",
      "metadata": {
        "id": "xs0mtoC5VW0G",
        "colab_type": "text"
      },
      "source": [
        "# ***TF-IDF***"
      ]
    },
    {
      "cell_type": "code",
      "metadata": {
        "id": "Lv1FZE3iVs0B",
        "colab_type": "code",
        "colab": {}
      },
      "source": [
        "from gensim import corpora, models\n",
        "\n",
        "tfidf = models.TfidfModel(corpus)"
      ],
      "execution_count": 0,
      "outputs": []
    },
    {
      "cell_type": "code",
      "metadata": {
        "id": "DO5ysdMmVuA7",
        "colab_type": "code",
        "colab": {}
      },
      "source": [
        "corpus = tfidf[corpus]"
      ],
      "execution_count": 0,
      "outputs": []
    },
    {
      "cell_type": "code",
      "metadata": {
        "id": "UigMJs4lYn7K",
        "colab_type": "code",
        "outputId": "910f0ad6-4677-4cf5-8536-57610164c17a",
        "colab": {
          "base_uri": "https://localhost:8080/",
          "height": 34
        }
      },
      "source": [
        "for doc in corpus:\n",
        "    pprint(doc)\n",
        "    break"
      ],
      "execution_count": 0,
      "outputs": [
        {
          "output_type": "stream",
          "text": [
            "[(0, 0.5668830586680931), (1, 0.8237982749405994)]\n"
          ],
          "name": "stdout"
        }
      ]
    },
    {
      "cell_type": "code",
      "metadata": {
        "id": "Kyp8PRxMeNgF",
        "colab_type": "code",
        "outputId": "33dbf478-3247-49e3-a81f-af466edc2d4a",
        "colab": {
          "base_uri": "https://localhost:8080/",
          "height": 34
        }
      },
      "source": [
        "id2word.doc2idx(['error', 'macro', 'tsn', 'retención'])"
      ],
      "execution_count": 0,
      "outputs": [
        {
          "output_type": "execute_result",
          "data": {
            "text/plain": [
              "[10, 7, 11, 9]"
            ]
          },
          "metadata": {
            "tags": []
          },
          "execution_count": 21
        }
      ]
    },
    {
      "cell_type": "code",
      "metadata": {
        "id": "oHggMEquiUF-",
        "colab_type": "code",
        "outputId": "d6337dad-c3f6-438d-8547-787c2e539ca0",
        "colab": {
          "base_uri": "https://localhost:8080/",
          "height": 85
        }
      },
      "source": [
        "corpus[4]"
      ],
      "execution_count": 0,
      "outputs": [
        {
          "output_type": "execute_result",
          "data": {
            "text/plain": [
              "[(7, 0.46042926557402186),\n",
              " (9, 0.46128333236895336),\n",
              " (10, 0.5986637165081339),\n",
              " (11, 0.4656439983702456)]"
            ]
          },
          "metadata": {
            "tags": []
          },
          "execution_count": 22
        }
      ]
    },
    {
      "cell_type": "code",
      "metadata": {
        "id": "aCDrqXK1iirj",
        "colab_type": "code",
        "outputId": "ddd6806d-c6b7-4bf0-ab87-cba7164db952",
        "colab": {
          "base_uri": "https://localhost:8080/",
          "height": 34
        }
      },
      "source": [
        "len(texts)"
      ],
      "execution_count": 0,
      "outputs": [
        {
          "output_type": "execute_result",
          "data": {
            "text/plain": [
              "5936"
            ]
          },
          "metadata": {
            "tags": []
          },
          "execution_count": 23
        }
      ]
    },
    {
      "cell_type": "markdown",
      "metadata": {
        "id": "9Xp5D_RVuwXU",
        "colab_type": "text"
      },
      "source": [
        "# ***PREPARING DATA INPUTS FOR MODELS***"
      ]
    },
    {
      "cell_type": "code",
      "metadata": {
        "id": "e41u7q7jHFTV",
        "colab_type": "code",
        "colab": {}
      },
      "source": [
        "X=corpus_to_input(corpus,id2word)"
      ],
      "execution_count": 0,
      "outputs": []
    },
    {
      "cell_type": "code",
      "metadata": {
        "id": "i9s4fTpTHn38",
        "colab_type": "code",
        "outputId": "136477bc-da40-4c28-85e7-a48ee3d432c3",
        "colab": {
          "base_uri": "https://localhost:8080/",
          "height": 238
        }
      },
      "source": [
        "X"
      ],
      "execution_count": 0,
      "outputs": [
        {
          "output_type": "execute_result",
          "data": {
            "text/plain": [
              "array([[0.56688306, 0.82379827, 0.        , ..., 0.        , 0.        ,\n",
              "        0.        ],\n",
              "       [0.        , 0.        , 0.31796989, ..., 0.        , 0.        ,\n",
              "        0.        ],\n",
              "       [0.56688306, 0.82379827, 0.        , ..., 0.        , 0.        ,\n",
              "        0.        ],\n",
              "       ...,\n",
              "       [0.        , 0.        , 0.        , ..., 0.        , 0.92924471,\n",
              "        0.        ],\n",
              "       [0.        , 0.        , 0.        , ..., 0.        , 0.72514508,\n",
              "        0.        ],\n",
              "       [0.        , 0.        , 0.        , ..., 0.        , 0.        ,\n",
              "        0.        ]])"
            ]
          },
          "metadata": {
            "tags": []
          },
          "execution_count": 25
        }
      ]
    },
    {
      "cell_type": "code",
      "metadata": {
        "id": "BXa8QS_iwex7",
        "colab_type": "code",
        "colab": {}
      },
      "source": [
        "Y = df1.Clasificacion.values.tolist()\n",
        "Y1,Y2=category_to_target(Y)"
      ],
      "execution_count": 0,
      "outputs": []
    },
    {
      "cell_type": "markdown",
      "metadata": {
        "id": "Wd3EBlShokiv",
        "colab_type": "text"
      },
      "source": [
        "# ***GETTING TRAIN AND TEST SET***"
      ]
    },
    {
      "cell_type": "code",
      "metadata": {
        "id": "sh28eLfhEW3L",
        "colab_type": "code",
        "colab": {}
      },
      "source": [
        "# x is your dataset\n",
        "#x = np.random.rand(100, 5)\n",
        "indices = np.random.permutation(X.shape[0])\n",
        "training_idx, test_idx = indices[:4748], indices[4748:]\n",
        "training, test = X[training_idx,:], X[test_idx,:]\n",
        "training_y1, test_y1 = Y1[training_idx], Y1[test_idx]\n",
        "training_y11, test_y11 = Y2[training_idx], Y2[test_idx]"
      ],
      "execution_count": 0,
      "outputs": []
    },
    {
      "cell_type": "markdown",
      "metadata": {
        "id": "sG9_8l5ucIep",
        "colab_type": "text"
      },
      "source": [
        "# ***MODELS***"
      ]
    },
    {
      "cell_type": "markdown",
      "metadata": {
        "id": "TYTA2H7Fz_km",
        "colab_type": "text"
      },
      "source": [
        "## ***NEURAL NETWORK***"
      ]
    },
    {
      "cell_type": "code",
      "metadata": {
        "id": "MdF0LTRshcnw",
        "colab_type": "code",
        "colab": {}
      },
      "source": [
        "# Parameters\n",
        "total_words=len(id2word)\n",
        "learning_rate = 0.01\n",
        "training_epochs = 10\n",
        "batch_size = 150\n",
        "display_step = 1\n",
        "\n",
        "# Network Parameters\n",
        "n_hidden_1 = 100      # 1st layer number of features\n",
        "n_hidden_2 = 100       # 2nd layer number of features\n",
        "n_input = total_words # Words in vocab\n",
        "n_classes = 4         # Categories: graphics, sci.space and baseball\n",
        "\n",
        "input_tensor = tf.placeholder(tf.float32,[None, n_input],name=\"input\")\n",
        "output_tensor = tf.placeholder(tf.float32,[None, n_classes],name=\"output\") \n",
        "\n",
        "def multilayer_perceptron(input_tensor, weights, biases):\n",
        "    layer_1_multiplication = tf.matmul(input_tensor, weights['h1'])\n",
        "    layer_1_addition = tf.add(layer_1_multiplication, biases['b1'])\n",
        "    layer_1 = tf.nn.relu(layer_1_addition)\n",
        "    \n",
        "    # Hidden layer with RELU activation\n",
        "    layer_2_multiplication = tf.matmul(layer_1, weights['h2'])\n",
        "    layer_2_addition = tf.add(layer_2_multiplication, biases['b2'])\n",
        "    layer_2 = tf.nn.relu(layer_2_addition)\n",
        "    \n",
        "    # Output layer \n",
        "    out_layer_multiplication = tf.matmul(layer_2, weights['out'])\n",
        "    out_layer_addition = out_layer_multiplication + biases['out']\n",
        "    \n",
        "    return out_layer_addition"
      ],
      "execution_count": 0,
      "outputs": []
    },
    {
      "cell_type": "code",
      "metadata": {
        "id": "6u--u6xGjqW1",
        "colab_type": "code",
        "outputId": "dc9859ce-2dc1-49b3-89b6-aeadff8daed0",
        "colab": {
          "base_uri": "https://localhost:8080/",
          "height": 224
        }
      },
      "source": [
        "# Store layers weight & bias\n",
        "weights = {\n",
        "    'h1': tf.Variable(tf.random_normal([n_input, n_hidden_1])),\n",
        "    'h2': tf.Variable(tf.random_normal([n_hidden_1, n_hidden_2])),\n",
        "    'out': tf.Variable(tf.random_normal([n_hidden_2, n_classes]))\n",
        "}\n",
        "biases = {\n",
        "    'b1': tf.Variable(tf.random_normal([n_hidden_1])),\n",
        "    'b2': tf.Variable(tf.random_normal([n_hidden_2])),\n",
        "    'out': tf.Variable(tf.random_normal([n_classes]))\n",
        "}\n",
        "\n",
        "# Construct model\n",
        "prediction = multilayer_perceptron(input_tensor, weights, biases)\n",
        "\n",
        "# Define loss and optimizer\n",
        "loss = tf.reduce_mean(tf.nn.softmax_cross_entropy_with_logits(logits=prediction, labels=output_tensor))\n",
        "optimizer = tf.train.AdamOptimizer(learning_rate=learning_rate).minimize(loss)\n",
        "\n",
        "# Initializing the variables\n",
        "init = tf.global_variables_initializer()\n",
        "\n",
        "# [NEW] Add ops to save and restore all the variables\n",
        "saver = tf.train.Saver()"
      ],
      "execution_count": 0,
      "outputs": [
        {
          "output_type": "stream",
          "text": [
            "WARNING:tensorflow:From /usr/local/lib/python3.6/dist-packages/tensorflow/python/framework/op_def_library.py:263: colocate_with (from tensorflow.python.framework.ops) is deprecated and will be removed in a future version.\n",
            "Instructions for updating:\n",
            "Colocations handled automatically by placer.\n",
            "WARNING:tensorflow:From <ipython-input-72-49bb310dccca>:16: softmax_cross_entropy_with_logits (from tensorflow.python.ops.nn_ops) is deprecated and will be removed in a future version.\n",
            "Instructions for updating:\n",
            "\n",
            "Future major versions of TensorFlow will allow gradients to flow\n",
            "into the labels input on backprop by default.\n",
            "\n",
            "See `tf.nn.softmax_cross_entropy_with_logits_v2`.\n",
            "\n"
          ],
          "name": "stdout"
        }
      ]
    },
    {
      "cell_type": "code",
      "metadata": {
        "id": "kj-eCM-BjsHj",
        "colab_type": "code",
        "outputId": "3716a1b2-59b8-4fab-bde8-6e1da350e3e4",
        "colab": {
          "base_uri": "https://localhost:8080/",
          "height": 238
        }
      },
      "source": [
        "# Launch the graph\n",
        "with tf.Session() as sess:\n",
        "    sess.run(init)\n",
        "\n",
        "    # Training cycle\n",
        "    for epoch in range(training_epochs):\n",
        "        avg_cost = 0.\n",
        "        total_batch = int(len(training)/batch_size)\n",
        "        # Loop over all batches\n",
        "        for i in range(total_batch):\n",
        "            batch_x = training[i*batch_size:i*batch_size+batch_size]\n",
        "            batch_y = training_y11[i*batch_size:i*batch_size+batch_size]\n",
        "            #batch_x,batch_y = get_batch(data1,data2,i,batch_size)\n",
        "            # Run optimization op (backprop) and cost op (to get loss value)\n",
        "            c,_ = sess.run([loss,optimizer], feed_dict={input_tensor: batch_x,output_tensor:batch_y})\n",
        "            # Compute average loss\n",
        "            avg_cost += c / total_batch\n",
        "        # Display logs per epoch step\n",
        "        if epoch % display_step == 0:\n",
        "            print(\"Epoch:\", '%04d' % (epoch+1), \"loss=\", \\\n",
        "                \"{:.9f}\".format(avg_cost))\n",
        "    print(\"Optimization Finished!\")\n",
        "\n",
        "    # Test model\n",
        "    correct_prediction = tf.equal(tf.argmax(prediction, 1), tf.argmax(output_tensor, 1))\n",
        "    # Calculate accuracy\n",
        "    accuracy = tf.reduce_mean(tf.cast(correct_prediction, \"float\"))\n",
        "    total_test_data = len(test)\n",
        "    batch_x_test = test\n",
        "    batch_y_test = test_y11\n",
        "    #batch_x_test,batch_y_test = get_batch(data3,data4,0,total_test_data)\n",
        "    print(\"Accuracy:\", accuracy.eval({input_tensor: batch_x_test, output_tensor: batch_y_test}))\n",
        "    \n",
        "    # [NEW] Save the variables to disk\n",
        "    save_path = saver.save(sess, \"/content/gdrive/My Drive/Colab Notebooks/lda2vec/out3/model.ckpt\")\n",
        "    print(\"Model saved in path: %s\" % save_path)"
      ],
      "execution_count": 0,
      "outputs": [
        {
          "output_type": "stream",
          "text": [
            "Epoch: 0001 loss= 14.494594693\n",
            "Epoch: 0002 loss= 1.940452454\n",
            "Epoch: 0003 loss= 0.670429077\n",
            "Epoch: 0004 loss= 0.379005704\n",
            "Epoch: 0005 loss= 0.250119595\n",
            "Epoch: 0006 loss= 0.255800504\n",
            "Epoch: 0007 loss= 0.229102412\n",
            "Epoch: 0008 loss= 0.257529512\n",
            "Epoch: 0009 loss= 0.229601459\n",
            "Epoch: 0010 loss= 0.238927464\n",
            "Optimization Finished!\n",
            "Accuracy: 0.9318182\n",
            "Model saved in path: /content/gdrive/My Drive/Colab Notebooks/lda2vec/out3/model.ckpt\n"
          ],
          "name": "stdout"
        }
      ]
    },
    {
      "cell_type": "code",
      "metadata": {
        "id": "-Ie2lJYFicdF",
        "colab_type": "code",
        "outputId": "0959e344-ea06-4a25-bac3-7ecafad2bc8e",
        "colab": {
          "base_uri": "https://localhost:8080/",
          "height": 139
        }
      },
      "source": [
        "saver = tf.train.Saver()\n",
        "\n",
        "with tf.Session() as sess:\n",
        "    saver.restore(sess, \"/content/gdrive/My Drive/Colab Notebooks/lda2vec/out3/model.ckpt\")\n",
        "    print(\"Model restored.\")\n",
        "    \n",
        "    classification = sess.run(tf.argmax(prediction, 1), feed_dict={input_tensor: test})\n",
        "    print(\"Predicted categories:\", classification)"
      ],
      "execution_count": 0,
      "outputs": [
        {
          "output_type": "stream",
          "text": [
            "WARNING:tensorflow:From /usr/local/lib/python3.6/dist-packages/tensorflow/python/training/saver.py:1266: checkpoint_exists (from tensorflow.python.training.checkpoint_management) is deprecated and will be removed in a future version.\n",
            "Instructions for updating:\n",
            "Use standard file APIs to check for files with this prefix.\n",
            "INFO:tensorflow:Restoring parameters from /content/gdrive/My Drive/Colab Notebooks/lda2vec/out3/model.ckpt\n",
            "Model restored.\n",
            "Predicted categories: [3 3 3 ... 3 3 3]\n"
          ],
          "name": "stdout"
        }
      ]
    },
    {
      "cell_type": "markdown",
      "metadata": {
        "id": "hAF-gCDn0ogE",
        "colab_type": "text"
      },
      "source": [
        "## ***SVM***"
      ]
    },
    {
      "cell_type": "code",
      "metadata": {
        "id": "WUQ0IktDAFw2",
        "colab_type": "code",
        "outputId": "601ce157-0983-4a29-e66b-5f071d4d2a12",
        "colab": {
          "base_uri": "https://localhost:8080/",
          "height": 51
        }
      },
      "source": [
        "from sklearn import svm\n",
        "\n",
        "clf_top=svm.SVC(kernel='linear',C=0.1,decision_function_shape='ovr')\n",
        "clf_top.fit(training,training_y1)\n",
        "\n",
        "y_predsvm = clf_top.predict(test)\n",
        "\n",
        "train_acc=clf_top.score(training,training_y1)\n",
        "test_acc=clf_top.score(test,test_y1)\n",
        "\n",
        "print(train_acc*100)\n",
        "print(test_acc*100)"
      ],
      "execution_count": 0,
      "outputs": [
        {
          "output_type": "stream",
          "text": [
            "91.38584667228307\n",
            "89.64646464646465\n"
          ],
          "name": "stdout"
        }
      ]
    },
    {
      "cell_type": "code",
      "metadata": {
        "id": "N_7ipBUbo_OU",
        "colab_type": "code",
        "outputId": "42ab8c7b-2382-4a65-9466-8d8f4c5c7d80",
        "colab": {
          "base_uri": "https://localhost:8080/",
          "height": 51
        }
      },
      "source": [
        "from sklearn import svm\n",
        "\n",
        "clf_top=svm.SVC(kernel='linear',C=0.1,decision_function_shape='ovr')\n",
        "clf_top.fit(training,training_y1)\n",
        "\n",
        "y_predsvm = clf_top.predict(test)\n",
        "\n",
        "train_acc=clf_top.score(training,training_y1)\n",
        "test_acc=clf_top.score(test,test_y1)\n",
        "\n",
        "print(train_acc*100)\n",
        "print(test_acc*100)"
      ],
      "execution_count": 0,
      "outputs": [
        {
          "output_type": "stream",
          "text": [
            "97.64111204717776\n",
            "96.04377104377105\n"
          ],
          "name": "stdout"
        }
      ]
    },
    {
      "cell_type": "markdown",
      "metadata": {
        "id": "--_9_TrmCnfT",
        "colab_type": "text"
      },
      "source": [
        "## ***NAIVE BAYES***"
      ]
    },
    {
      "cell_type": "code",
      "metadata": {
        "id": "AsntI-8MreDo",
        "colab_type": "code",
        "colab": {}
      },
      "source": [
        "#Import Gaussian Naive Bayes model\n",
        "from sklearn.naive_bayes import GaussianNB\n",
        "\n",
        "#Create a Gaussian Classifier\n",
        "gnb = GaussianNB()\n",
        "\n",
        "#Train the model using the training sets\n",
        "gnb.fit(training, training_y1)\n",
        "\n",
        "#Predict the response for test dataset\n",
        "y_pred = gnb.predict(test)"
      ],
      "execution_count": 0,
      "outputs": []
    },
    {
      "cell_type": "code",
      "metadata": {
        "id": "F-4agcmNrgYj",
        "colab_type": "code",
        "outputId": "e8a08850-37b9-41cb-9018-08cd3b8a413c",
        "colab": {
          "base_uri": "https://localhost:8080/",
          "height": 34
        }
      },
      "source": [
        "#Import scikit-learn metrics module for accuracy calculation\n",
        "from sklearn import metrics\n",
        "\n",
        "# Model Accuracy, how often is the classifier correct?\n",
        "print(\"Accuracy:\",metrics.accuracy_score(test_y1, y_pred))"
      ],
      "execution_count": 0,
      "outputs": [
        {
          "output_type": "stream",
          "text": [
            "Accuracy: 0.5673400673400674\n"
          ],
          "name": "stdout"
        }
      ]
    },
    {
      "cell_type": "markdown",
      "metadata": {
        "id": "SFbqVimBGP4j",
        "colab_type": "text"
      },
      "source": [
        "## ***ERROR GRAPHS***"
      ]
    },
    {
      "cell_type": "code",
      "metadata": {
        "id": "AmJzfkj5F3Zg",
        "colab_type": "code",
        "outputId": "d84af5c7-b41a-4f1e-dd46-ee9ffb12b44c",
        "colab": {
          "base_uri": "https://localhost:8080/",
          "height": 716
        }
      },
      "source": [
        "graph_error_models(2,2,test_y1,y_pred)"
      ],
      "execution_count": 0,
      "outputs": [
        {
          "output_type": "display_data",
          "data": {
            "image/png": "[encoded data removed]",
            "text/plain": [
              "<Figure size 720x864 with 4 Axes>"
            ]
          },
          "metadata": {
            "tags": []
          }
        }
      ]
    },
    {
      "cell_type": "code",
      "metadata": {
        "id": "v1hQYzByKe5b",
        "colab_type": "code",
        "outputId": "321f341e-bd35-4ffa-9aeb-4a1a1b97031f",
        "colab": {
          "base_uri": "https://localhost:8080/",
          "height": 716
        }
      },
      "source": [
        "graph_error_models(2,2,test_y1,y_predsvm)"
      ],
      "execution_count": 0,
      "outputs": [
        {
          "output_type": "display_data",
          "data": {
            "image/png": "[encoded data removed]",
            "text/plain": [
              "<Figure size 720x864 with 4 Axes>"
            ]
          },
          "metadata": {
            "tags": []
          }
        }
      ]
    },
    {
      "cell_type": "code",
      "metadata": {
        "id": "KBui57A0PLRZ",
        "colab_type": "code",
        "outputId": "bb92db3c-93f2-4e1d-96a7-bd68af40e252",
        "colab": {
          "base_uri": "https://localhost:8080/",
          "height": 716
        }
      },
      "source": [
        "graph_error_models(2,2,test_y1,classification)"
      ],
      "execution_count": 0,
      "outputs": [
        {
          "output_type": "display_data",
          "data": {
            "image/png": "[encoded data removed]",
            "text/plain": [
              "<Figure size 720x864 with 4 Axes>"
            ]
          },
          "metadata": {
            "tags": []
          }
        }
      ]
    }
  ]
}
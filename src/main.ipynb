{
  "nbformat": 4,
  "nbformat_minor": 0,
  "metadata": {
    "colab": {
      "name": "main3.ipynb",
      "version": "0.3.2",
      "provenance": [],
      "collapsed_sections": [],
      "toc_visible": true,
      "include_colab_link": true
    },
    "kernelspec": {
      "name": "python3",
      "display_name": "Python 3"
    }
  },
  "cells": [
    {
      "cell_type": "markdown",
      "metadata": {
        "id": "view-in-github",
        "colab_type": "text"
      },
      "source": [
        "<a href=\"https://colab.research.google.com/github/lexbetaOS/NLP-Models/blob/master/src/main.ipynb\" target=\"_parent\"><img src=\"https://colab.research.google.com/assets/colab-badge.svg\" alt=\"Open In Colab\"/></a>"
      ]
    },
    {
      "cell_type": "markdown",
      "metadata": {
        "id": "sby3p2UdmBe6",
        "colab_type": "text"
      },
      "source": [
        "# **LIBARIES' IMPORT**"
      ]
    },
    {
      "cell_type": "code",
      "metadata": {
        "id": "FEKiyady-Ues",
        "colab_type": "code",
        "outputId": "a8a1b106-be93-4cfd-afb5-145ff55b3993",
        "colab": {
          "base_uri": "https://localhost:8080/",
          "height": 35
        }
      },
      "source": [
        "cd /content/gdrive/My\\ Drive/Colab\\ Notebooks/lda2vec/"
      ],
      "execution_count": 1,
      "outputs": [
        {
          "output_type": "stream",
          "text": [
            "/content/gdrive/My Drive/Colab Notebooks/lda2vec\n"
          ],
          "name": "stdout"
        }
      ]
    },
    {
      "cell_type": "code",
      "metadata": {
        "id": "2ty2WXQM9tQn",
        "colab_type": "code",
        "outputId": "da15aea1-e364-4f66-8c70-39ae33a095f9",
        "colab": {
          "base_uri": "https://localhost:8080/",
          "height": 35
        }
      },
      "source": [
        "pwd"
      ],
      "execution_count": 2,
      "outputs": [
        {
          "output_type": "execute_result",
          "data": {
            "text/plain": [
              "'/content/gdrive/My Drive/Colab Notebooks/lda2vec'"
            ]
          },
          "metadata": {
            "tags": []
          },
          "execution_count": 2
        }
      ]
    },
    {
      "cell_type": "code",
      "metadata": {
        "id": "D8CQFhY6kDzc",
        "colab_type": "code",
        "outputId": "e1c80c7d-eb9a-4060-ee34-f5b446788f1f",
        "colab": {
          "base_uri": "https://localhost:8080/",
          "height": 379
        }
      },
      "source": [
        "import pandas as pd\n",
        "import numpy as np\n",
        "import tensorflow as tf\n",
        "from collections import Counter\n",
        "#from sklearn.datasets import fetch_20newsgroups\n",
        "import re\n",
        "import string\n",
        "from pprint import pprint\n",
        "                                                           \n",
        "import matplotlib.pyplot as plt\n",
        "\n",
        "# Gensim\n",
        "import gensim\n",
        "import gensim.corpora as corpora\n",
        "from gensim.utils import simple_preprocess\n",
        "from gensim.models import CoherenceModel\n",
        "\n",
        "\n",
        "import nltk\n",
        "nltk.download('stopwords')\n",
        "from nltk.corpus import stopwords\n",
        "from nltk.stem.snowball import SpanishStemmer\n",
        "\n",
        "!pip install stop_words\n",
        "!python -m spacy download es\n",
        "!python -m spacy download es_core_news_sm\n",
        "from stop_words import get_stop_words\n",
        "\n",
        "# spacy for lemmatization\n",
        "import spacy\n",
        "\n",
        "\n",
        "from sklearn import svm\n",
        "from sklearn.naive_bayes import GaussianNB\n"
      ],
      "execution_count": 4,
      "outputs": [
        {
          "output_type": "stream",
          "text": [
            "[nltk_data] Downloading package stopwords to /root/nltk_data...\n",
            "[nltk_data]   Package stopwords is already up-to-date!\n",
            "Requirement already satisfied: stop_words in /usr/local/lib/python3.6/dist-packages (2018.7.23)\n",
            "Requirement already satisfied: es_core_news_sm==2.0.0 from https://github.com/explosion/spacy-models/releases/download/es_core_news_sm-2.0.0/es_core_news_sm-2.0.0.tar.gz#egg=es_core_news_sm==2.0.0 in /usr/local/lib/python3.6/dist-packages (2.0.0)\n",
            "\n",
            "\u001b[93m    Linking successful\u001b[0m\n",
            "    /usr/local/lib/python3.6/dist-packages/es_core_news_sm -->\n",
            "    /usr/local/lib/python3.6/dist-packages/spacy/data/es\n",
            "\n",
            "    You can now load the model via spacy.load('es')\n",
            "\n",
            "Requirement already satisfied: es_core_news_sm==2.0.0 from https://github.com/explosion/spacy-models/releases/download/es_core_news_sm-2.0.0/es_core_news_sm-2.0.0.tar.gz#egg=es_core_news_sm==2.0.0 in /usr/local/lib/python3.6/dist-packages (2.0.0)\n",
            "\n",
            "\u001b[93m    Linking successful\u001b[0m\n",
            "    /usr/local/lib/python3.6/dist-packages/es_core_news_sm -->\n",
            "    /usr/local/lib/python3.6/dist-packages/spacy/data/es_core_news_sm\n",
            "\n",
            "    You can now load the model via spacy.load('es_core_news_sm')\n",
            "\n"
          ],
          "name": "stdout"
        }
      ]
    },
    {
      "cell_type": "code",
      "metadata": {
        "id": "-MMocHQi_EZE",
        "colab_type": "code",
        "outputId": "e69ef1da-08cc-4cb5-8edd-c699a2658000",
        "colab": {
          "base_uri": "https://localhost:8080/",
          "height": 35
        }
      },
      "source": [
        "tf.__version__"
      ],
      "execution_count": 60,
      "outputs": [
        {
          "output_type": "execute_result",
          "data": {
            "text/plain": [
              "'1.13.1'"
            ]
          },
          "metadata": {
            "tags": []
          },
          "execution_count": 60
        }
      ]
    },
    {
      "cell_type": "code",
      "metadata": {
        "id": "XtXi8UtqCYmP",
        "colab_type": "code",
        "colab": {}
      },
      "source": [
        "#utils\n",
        "from md_utils import graph_error_models,category_to_target,corpus_to_input,sent_to_words,remove_stopwords,make_bigrams,make_trigrams,lemmatization,multilayer_perceptron_nn"
      ],
      "execution_count": 0,
      "outputs": []
    },
    {
      "cell_type": "markdown",
      "metadata": {
        "id": "GTGoeOOemNjV",
        "colab_type": "text"
      },
      "source": [
        "# ***LOAD AND EXPLORED DATA***"
      ]
    },
    {
      "cell_type": "code",
      "metadata": {
        "id": "PmvTxKqpq1C-",
        "colab_type": "code",
        "outputId": "ac343a48-45bc-4c5b-91a4-e5c65eb5dfe7",
        "colab": {
          "base_uri": "https://localhost:8080/",
          "height": 127
        }
      },
      "source": [
        "from google.colab import drive\n",
        "drive.mount('/content/gdrive/')"
      ],
      "execution_count": 5,
      "outputs": [
        {
          "output_type": "stream",
          "text": [
            "Go to this URL in a browser: https://accounts.google.com/o/oauth2/auth?client_id=947318989803-6bn6qk8qdgf4n4g3pfee6491hc0brc4i.apps.googleusercontent.com&redirect_uri=urn%3Aietf%3Awg%3Aoauth%3A2.0%3Aoob&scope=email%20https%3A%2F%2Fwww.googleapis.com%2Fauth%2Fdocs.test%20https%3A%2F%2Fwww.googleapis.com%2Fauth%2Fdrive%20https%3A%2F%2Fwww.googleapis.com%2Fauth%2Fdrive.photos.readonly%20https%3A%2F%2Fwww.googleapis.com%2Fauth%2Fpeopleapi.readonly&response_type=code\n",
            "\n",
            "Enter your authorization code:\n",
            "··········\n",
            "Mounted at /content/gdrive/\n"
          ],
          "name": "stdout"
        }
      ]
    },
    {
      "cell_type": "code",
      "metadata": {
        "id": "rRKGeAtclCLk",
        "colab_type": "code",
        "outputId": "dd2d6dc8-ac7d-4389-e658-0b01509eb27a",
        "colab": {
          "base_uri": "https://localhost:8080/",
          "height": 400
        }
      },
      "source": [
        "df1 = pd.read_csv('/content/gdrive/My Drive/Colab Notebooks/lda2vec/out_AVP.csv')\n",
        "print(\"Total de datos\",len(df1))\n",
        "df1.head(4)"
      ],
      "execution_count": 6,
      "outputs": [
        {
          "output_type": "stream",
          "text": [
            "Total de datos 5936\n"
          ],
          "name": "stdout"
        },
        {
          "output_type": "execute_result",
          "data": {
            "text/html": [
              "<div>\n",
              "<style scoped>\n",
              "    .dataframe tbody tr th:only-of-type {\n",
              "        vertical-align: middle;\n",
              "    }\n",
              "\n",
              "    .dataframe tbody tr th {\n",
              "        vertical-align: top;\n",
              "    }\n",
              "\n",
              "    .dataframe thead th {\n",
              "        text-align: right;\n",
              "    }\n",
              "</style>\n",
              "<table border=\"1\" class=\"dataframe\">\n",
              "  <thead>\n",
              "    <tr style=\"text-align: right;\">\n",
              "      <th></th>\n",
              "      <th>Unnamed: 0</th>\n",
              "      <th>Document_No</th>\n",
              "      <th>Dominant_Topic</th>\n",
              "      <th>Topic_Perc_Contrib</th>\n",
              "      <th>Keywords</th>\n",
              "      <th>Text</th>\n",
              "      <th>Asunto</th>\n",
              "      <th>Clasificacion</th>\n",
              "    </tr>\n",
              "  </thead>\n",
              "  <tbody>\n",
              "    <tr>\n",
              "      <th>0</th>\n",
              "      <td>0</td>\n",
              "      <td>0</td>\n",
              "      <td>1.0</td>\n",
              "      <td>0.7493</td>\n",
              "      <td>consultar, bnf, solicitud, evaluacion, retenci...</td>\n",
              "      <td>['nuevo', 'webpyme']</td>\n",
              "      <td>RE: ***Nueva WEBPYME***</td>\n",
              "      <td>Consulta</td>\n",
              "    </tr>\n",
              "    <tr>\n",
              "      <th>1</th>\n",
              "      <td>1</td>\n",
              "      <td>1</td>\n",
              "      <td>0.0</td>\n",
              "      <td>0.8473</td>\n",
              "      <td>cliente, eirl, diverso, idc, rebajar, peru, ta...</td>\n",
              "      <td>['tupaq', 'tour', 'peru', 'sac']</td>\n",
              "      <td>TUPAQ TOURS PERU SAC| RUC 20601204496</td>\n",
              "      <td>Consulta</td>\n",
              "    </tr>\n",
              "    <tr>\n",
              "      <th>2</th>\n",
              "      <td>2</td>\n",
              "      <td>2</td>\n",
              "      <td>1.0</td>\n",
              "      <td>0.7493</td>\n",
              "      <td>consultar, bnf, solicitud, evaluacion, retenci...</td>\n",
              "      <td>['nuevo', 'webpyme']</td>\n",
              "      <td>RE: ***Nueva WEBPYME***</td>\n",
              "      <td>Consulta</td>\n",
              "    </tr>\n",
              "    <tr>\n",
              "      <th>3</th>\n",
              "      <td>3</td>\n",
              "      <td>3</td>\n",
              "      <td>3.0</td>\n",
              "      <td>0.4487</td>\n",
              "      <td>plan, cambiar, dni, cliente, respuesta_automat...</td>\n",
              "      <td>['macro', 'retención', 'desactualizada', 'pers...</td>\n",
              "      <td>RE: Macro Retenciones Desactualizada// URG (pe...</td>\n",
              "      <td>Consulta</td>\n",
              "    </tr>\n",
              "  </tbody>\n",
              "</table>\n",
              "</div>"
            ],
            "text/plain": [
              "   Unnamed: 0  ...  Clasificacion\n",
              "0           0  ...       Consulta\n",
              "1           1  ...       Consulta\n",
              "2           2  ...       Consulta\n",
              "3           3  ...       Consulta\n",
              "\n",
              "[4 rows x 8 columns]"
            ]
          },
          "metadata": {
            "tags": []
          },
          "execution_count": 6
        }
      ]
    },
    {
      "cell_type": "code",
      "metadata": {
        "id": "7TWJ8-A5Mvrl",
        "colab_type": "code",
        "outputId": "4241d635-5805-4aab-8e02-034d9dbb7001",
        "colab": {
          "base_uri": "https://localhost:8080/",
          "height": 341
        }
      },
      "source": [
        "c1=sum(df1['Clasificacion']=='Consulta')\n",
        "c2=sum(df1['Clasificacion']=='Cambio de plan')\n",
        "c3=sum(df1['Clasificacion']=='Creditos')\n",
        "c4=sum(df1['Clasificacion']=='Excepcion')\n",
        "\n",
        "print('Total de la clase \\'Consulta\\':',c1)\n",
        "print('Total de la clase \\'Cambio de plan\\':',c2)\n",
        "print('Total de la clase \\'Creditos\\':',c3)\n",
        "print('Total de la clase \\'Excepcion\\':',c4)\n",
        "\n",
        "ctdxcls=[('Consulta',c1),('Cambio de plan',c2),('Creditos',c3),('Excepcion',c4)]\n",
        "\n",
        "labels, ys = zip(*ctdxcls)\n",
        "xs = np.arange(len(labels)) \n",
        "width = 1\n",
        "\n",
        "plt.bar(xs, ys, width, align='center')\n",
        "\n",
        "plt.xticks(xs, labels) #Replace default x-ticks with xs, then replace xs with labels\n",
        "plt.yticks(ys)\n",
        "plt.show()\n",
        "#plt.savefig('netscore.png')"
      ],
      "execution_count": 7,
      "outputs": [
        {
          "output_type": "stream",
          "text": [
            "Total de la clase 'Consulta': 1132\n",
            "Total de la clase 'Cambio de plan': 732\n",
            "Total de la clase 'Creditos': 160\n",
            "Total de la clase 'Excepcion': 3912\n"
          ],
          "name": "stdout"
        },
        {
          "output_type": "display_data",
          "data": {
            "image/png": "[encoded data removed]",
            "text/plain": [
              "<Figure size 432x288 with 1 Axes>"
            ]
          },
          "metadata": {
            "tags": []
          }
        }
      ]
    },
    {
      "cell_type": "markdown",
      "metadata": {
        "id": "NFALvCmFpg6y",
        "colab_type": "text"
      },
      "source": [
        "# ***DATA CLEANING***"
      ]
    },
    {
      "cell_type": "code",
      "metadata": {
        "id": "7zHelQI0pCpA",
        "colab_type": "code",
        "colab": {}
      },
      "source": [
        "data1 = df1.Asunto.values.tolist()\n",
        "\n",
        "data1 = [re.sub('\\S*@\\S*\\s?', '', sent) for sent in data1]\n",
        "data1 = [re.sub(r\"http\\S+\", \"\", sent) for sent in data1]\n",
        "data1 = [re.sub(r\"(<[^>]*>)\", \" \", sent) for sent in data1]\n",
        "#data1 = [re.sub(\"[^a-zA-Z]+\", \" \", sent) for sent in data1]\n",
        "data1 = [re.sub(r\"({[^}]*})\", \" \", sent) for sent in data1]\n",
        "data1 = [re.sub('\\s+', ' ', sent) for sent in data1]\n",
        "data1 = [re.sub(\"\\'\", \"\", sent) for sent in data1]\n",
        "data1 = [re.sub(\"\\*\", \"\", sent) for sent in data1]\n",
        "data1 = [re.sub(\"\\/\", \"\", sent) for sent in data1]\n",
        "data1 = [re.sub(\"\\(\", \"\", sent) for sent in data1]\n",
        "data1 = [re.sub(\"\\)\", \"\", sent) for sent in data1]\n",
        "data1 = [re.sub(\"\\!\", \"\", sent) for sent in data1]\n",
        "data1 = [re.sub(\"\\-\", \"\", sent) for sent in data1]\n",
        "data1 = [re.sub(r\"(\\[.*?\\])\", \" \", sent) for sent in data1]\n",
        "data1 = [re.sub(r\"(RE:[^\\w])\", \"\", sent) for sent in data1]\n",
        "data1 = [re.sub(r\"(RV:[^\\w])\", \"\", sent) for sent in data1]\n",
        "data1 = [re.sub(r\"([\\d\\.])\", \"\", sent) for sent in data1]\n",
        "data1 = [re.sub(\"\\:\", \"\", sent) for sent in data1]"
      ],
      "execution_count": 0,
      "outputs": []
    },
    {
      "cell_type": "markdown",
      "metadata": {
        "id": "n1fA3mhYqLzW",
        "colab_type": "text"
      },
      "source": [
        "# ***CREATING TOKENS, N-GRAMS AND DICTIONARY***"
      ]
    },
    {
      "cell_type": "code",
      "metadata": {
        "id": "O7hJRBT-qxGw",
        "colab_type": "code",
        "outputId": "bc23e21e-8d47-4f30-adb8-b83b8a80a4c9",
        "colab": {
          "base_uri": "https://localhost:8080/",
          "height": 35
        }
      },
      "source": [
        "stopwords_es = set(stopwords.words('spanish'))\n",
        "stopwords_es_sw = set(get_stop_words('spanish'))\n",
        "\n",
        "stopSpanish = set(stopwords_es.union(stopwords_es_sw))\n",
        "\n",
        "stopSpanish = list(stopSpanish)\n",
        "\n",
        "print(type(stopSpanish),len(stopSpanish))"
      ],
      "execution_count": 8,
      "outputs": [
        {
          "output_type": "stream",
          "text": [
            "<class 'list'> 317\n"
          ],
          "name": "stdout"
        }
      ]
    },
    {
      "cell_type": "code",
      "metadata": {
        "id": "dS8UhR-dqW10",
        "colab_type": "code",
        "outputId": "f9900e04-5eb4-450d-f6f6-68d8056929ff",
        "colab": {
          "base_uri": "https://localhost:8080/",
          "height": 35
        }
      },
      "source": [
        "#Tokenizacion\n",
        "data_words = list(sent_to_words(data1))\n",
        "\n",
        "print(data_words[:2])"
      ],
      "execution_count": 9,
      "outputs": [
        {
          "output_type": "stream",
          "text": [
            "[['nueva', 'webpyme'], ['tupaq', 'tours', 'peru', 'sac', 'ruc']]\n"
          ],
          "name": "stdout"
        }
      ]
    },
    {
      "cell_type": "code",
      "metadata": {
        "id": "ST0T1w_rqncL",
        "colab_type": "code",
        "outputId": "e4d36f31-a9e6-4242-ed2b-379d70f52b2f",
        "colab": {
          "base_uri": "https://localhost:8080/",
          "height": 127
        }
      },
      "source": [
        "%%time\n",
        "# Build the bigram and trigram models\n",
        "bigram = gensim.models.Phrases(data_words, min_count=5, threshold=100) # higher threshold fewer phrases.\n",
        "trigram = gensim.models.Phrases(bigram[data_words], threshold=100)  \n",
        "\n",
        "# Faster way to get a sentence clubbed as a trigram/bigram\n",
        "bigram_mod = gensim.models.phrases.Phraser(bigram)\n",
        "trigram_mod = gensim.models.phrases.Phraser(trigram)\n",
        "\n",
        "# See trigram example\n",
        "print(trigram_mod[bigram_mod[data_words[1]]])"
      ],
      "execution_count": 10,
      "outputs": [
        {
          "output_type": "stream",
          "text": [
            "/usr/local/lib/python3.6/dist-packages/gensim/models/phrases.py:598: UserWarning: For a faster implementation, use the gensim.models.phrases.Phraser class\n",
            "  warnings.warn(\"For a faster implementation, use the gensim.models.phrases.Phraser class\")\n"
          ],
          "name": "stderr"
        },
        {
          "output_type": "stream",
          "text": [
            "['tupaq', 'tours', 'peru', 'sac', 'ruc']\n",
            "CPU times: user 560 ms, sys: 4.57 ms, total: 564 ms\n",
            "Wall time: 571 ms\n"
          ],
          "name": "stdout"
        }
      ]
    },
    {
      "cell_type": "code",
      "metadata": {
        "id": "ZHH-Qs4AqupW",
        "colab_type": "code",
        "outputId": "9001c101-41f6-4458-ea11-caedf7f095e7",
        "colab": {
          "base_uri": "https://localhost:8080/",
          "height": 71
        }
      },
      "source": [
        "%%time\n",
        "# Remove Stop Words\n",
        "data_words_nostops = remove_stopwords(data_words,stopSpanish)\n",
        "\n",
        "# Form Bigrams\n",
        "#data_words_bigrams = make_bigrams(data_words_nostops,bigram_mod)\n",
        "data_words_trigrams = make_trigrams(data_words_nostops,bigram_mod,trigram_mod)\n",
        "# Initialize spacy 'en' model, keeping only tagger component (for efficiency)\n",
        "# python3 -m spacy download en\n",
        "#nlp = spacy.load('en', disable=['parser', 'ner'])\n",
        "nlp = spacy.load('es_core_news_sm', disable=['parser', 'ner'])\n",
        "\n",
        "# Do lemmatization keeping only noun, adj, vb, adv\n",
        "#data_lemmatized = lemmatization(data_words_bigrams,nlp, allowed_postags=['NOUN', 'ADJ', 'VERB', 'ADV'])\n",
        "data_lemmatized = lemmatization(data_words_trigrams,nlp, allowed_postags=['NOUN', 'ADJ', 'VERB', 'ADV'])\n",
        "\n",
        "\n",
        "print(data_lemmatized[:1])"
      ],
      "execution_count": 11,
      "outputs": [
        {
          "output_type": "stream",
          "text": [
            "[['nuevo', 'webpyme']]\n",
            "CPU times: user 30.3 s, sys: 14 s, total: 44.3 s\n",
            "Wall time: 22.8 s\n"
          ],
          "name": "stdout"
        }
      ]
    },
    {
      "cell_type": "code",
      "metadata": {
        "id": "e9b1iLqiPrOu",
        "colab_type": "code",
        "colab": {
          "base_uri": "https://localhost:8080/",
          "height": 35
        },
        "outputId": "cfc9dd78-c565-4e17-9cb6-797d2021bf65"
      },
      "source": [
        "print(trigram_mod[bigram_mod[data_words[128]]])"
      ],
      "execution_count": 11,
      "outputs": [
        {
          "output_type": "stream",
          "text": [
            "['excepcion', 'tasa', 'ruc', 'vilela', 'abogados', 'sociedad_anonima_cerrada']\n"
          ],
          "name": "stdout"
        }
      ]
    },
    {
      "cell_type": "code",
      "metadata": {
        "id": "XTDLCh6tq4s0",
        "colab_type": "code",
        "outputId": "8cbed913-6c0b-499b-c998-a5e9428308da",
        "colab": {
          "base_uri": "https://localhost:8080/",
          "height": 35
        }
      },
      "source": [
        "# Create Dictionary\n",
        "id2word = corpora.Dictionary(data_lemmatized)\n",
        "\n",
        "# Create Corpus\n",
        "texts = data_lemmatized\n",
        "\n",
        "# Term Document Frequency\n",
        "corpus = [id2word.doc2bow(text) for text in texts]\n",
        "\n",
        "# View\n",
        "print(corpus[:1])"
      ],
      "execution_count": 12,
      "outputs": [
        {
          "output_type": "stream",
          "text": [
            "[[(0, 1), (1, 1)]]\n"
          ],
          "name": "stdout"
        }
      ]
    },
    {
      "cell_type": "code",
      "metadata": {
        "id": "B5vgZYKZVqdo",
        "colab_type": "code",
        "colab": {
          "base_uri": "https://localhost:8080/",
          "height": 35
        },
        "outputId": "4bafe5b6-ce1f-4334-a399-e39fe9d521a0"
      },
      "source": [
        "id2word.doc2bow(texts[1])"
      ],
      "execution_count": 49,
      "outputs": [
        {
          "output_type": "execute_result",
          "data": {
            "text/plain": [
              "[(2, 1), (3, 1), (4, 1), (5, 1)]"
            ]
          },
          "metadata": {
            "tags": []
          },
          "execution_count": 49
        }
      ]
    },
    {
      "cell_type": "code",
      "metadata": {
        "id": "RHlplfPwtJof",
        "colab_type": "code",
        "outputId": "4b79c91e-bea9-45ca-cc44-c6b3a345a899",
        "colab": {
          "base_uri": "https://localhost:8080/",
          "height": 102
        }
      },
      "source": [
        "# Human readable format of corpus (term-frequency)\n",
        "[[(id2word[id], freq) for id, freq in cp] for cp in corpus[:5]]"
      ],
      "execution_count": 0,
      "outputs": [
        {
          "output_type": "execute_result",
          "data": {
            "text/plain": [
              "[[('nuevo', 1), ('webpyme', 1)],\n",
              " [('peru', 1), ('sac', 1), ('tour', 1), ('tupaq', 1)],\n",
              " [('nuevo', 1), ('webpyme', 1)],\n",
              " [('desactualizada', 1), ('macro', 1), ('persistir', 1), ('retención', 1)],\n",
              " [('macro', 1), ('retención', 1), ('error', 1), ('tsn', 1)]]"
            ]
          },
          "metadata": {
            "tags": []
          },
          "execution_count": 16
        }
      ]
    },
    {
      "cell_type": "markdown",
      "metadata": {
        "id": "xs0mtoC5VW0G",
        "colab_type": "text"
      },
      "source": [
        "# ***TF-IDF***"
      ]
    },
    {
      "cell_type": "code",
      "metadata": {
        "id": "Lv1FZE3iVs0B",
        "colab_type": "code",
        "colab": {}
      },
      "source": [
        "from gensim import corpora, models\n",
        "\n",
        "tfidf = models.TfidfModel(corpus)"
      ],
      "execution_count": 0,
      "outputs": []
    },
    {
      "cell_type": "code",
      "metadata": {
        "id": "DO5ysdMmVuA7",
        "colab_type": "code",
        "colab": {}
      },
      "source": [
        "corpus = tfidf[corpus]"
      ],
      "execution_count": 0,
      "outputs": []
    },
    {
      "cell_type": "code",
      "metadata": {
        "id": "UigMJs4lYn7K",
        "colab_type": "code",
        "outputId": "18d99e91-0698-4020-99a1-97de7c093777",
        "colab": {
          "base_uri": "https://localhost:8080/",
          "height": 35
        }
      },
      "source": [
        "for doc in corpus:\n",
        "    pprint(doc)\n",
        "    break"
      ],
      "execution_count": 15,
      "outputs": [
        {
          "output_type": "stream",
          "text": [
            "[(0, 0.5668830586680931), (1, 0.8237982749405994)]\n"
          ],
          "name": "stdout"
        }
      ]
    },
    {
      "cell_type": "code",
      "metadata": {
        "id": "Kyp8PRxMeNgF",
        "colab_type": "code",
        "outputId": "a4690286-80f9-4145-f3c6-0ef7d55a32e0",
        "colab": {
          "base_uri": "https://localhost:8080/",
          "height": 35
        }
      },
      "source": [
        "id2word.doc2idx(['error', 'macro', 'tsn', 'retención'])"
      ],
      "execution_count": 16,
      "outputs": [
        {
          "output_type": "execute_result",
          "data": {
            "text/plain": [
              "[10, 7, 11, 9]"
            ]
          },
          "metadata": {
            "tags": []
          },
          "execution_count": 16
        }
      ]
    },
    {
      "cell_type": "markdown",
      "metadata": {
        "id": "9Xp5D_RVuwXU",
        "colab_type": "text"
      },
      "source": [
        "# ***PREPARING DATA INPUTS FOR MODELS***"
      ]
    },
    {
      "cell_type": "code",
      "metadata": {
        "id": "e41u7q7jHFTV",
        "colab_type": "code",
        "colab": {}
      },
      "source": [
        "X=corpus_to_input(corpus,id2word)"
      ],
      "execution_count": 0,
      "outputs": []
    },
    {
      "cell_type": "code",
      "metadata": {
        "id": "i9s4fTpTHn38",
        "colab_type": "code",
        "outputId": "ae78843d-64a4-4022-f2b6-061d42386d75",
        "colab": {
          "base_uri": "https://localhost:8080/",
          "height": 251
        }
      },
      "source": [
        "X"
      ],
      "execution_count": 17,
      "outputs": [
        {
          "output_type": "execute_result",
          "data": {
            "text/plain": [
              "array([[0.56688306, 0.82379827, 0.        , ..., 0.        , 0.        ,\n",
              "        0.        ],\n",
              "       [0.        , 0.        , 0.3179913 , ..., 0.        , 0.        ,\n",
              "        0.        ],\n",
              "       [0.56688306, 0.82379827, 0.        , ..., 0.        , 0.        ,\n",
              "        0.        ],\n",
              "       ...,\n",
              "       [0.        , 0.        , 0.        , ..., 0.        , 0.92924471,\n",
              "        0.        ],\n",
              "       [0.        , 0.        , 0.        , ..., 0.        , 0.72514508,\n",
              "        0.        ],\n",
              "       [0.        , 0.        , 0.        , ..., 0.        , 0.        ,\n",
              "        0.        ]])"
            ]
          },
          "metadata": {
            "tags": []
          },
          "execution_count": 17
        }
      ]
    },
    {
      "cell_type": "code",
      "metadata": {
        "id": "BXa8QS_iwex7",
        "colab_type": "code",
        "colab": {}
      },
      "source": [
        "Y = df1.Clasificacion.values.tolist()\n",
        "Y1,Y2=category_to_target(Y)"
      ],
      "execution_count": 0,
      "outputs": []
    },
    {
      "cell_type": "markdown",
      "metadata": {
        "id": "Wd3EBlShokiv",
        "colab_type": "text"
      },
      "source": [
        "# ***GETTING TRAIN AND TEST SET***"
      ]
    },
    {
      "cell_type": "code",
      "metadata": {
        "id": "sh28eLfhEW3L",
        "colab_type": "code",
        "colab": {}
      },
      "source": [
        "# x is your dataset\n",
        "#x = np.random.rand(100, 5)\n",
        "indices = np.random.permutation(X.shape[0])\n",
        "training_idx, test_idx = indices[:4748], indices[4748:]\n",
        "training_x, test_x = X[training_idx,:], X[test_idx,:]\n",
        "training_y1, test_y1 = Y1[training_idx], Y1[test_idx]\n",
        "training_y2, test_y2 = Y2[training_idx], Y2[test_idx]"
      ],
      "execution_count": 0,
      "outputs": []
    },
    {
      "cell_type": "markdown",
      "metadata": {
        "id": "sG9_8l5ucIep",
        "colab_type": "text"
      },
      "source": [
        "# ***MODELS***"
      ]
    },
    {
      "cell_type": "markdown",
      "metadata": {
        "id": "TYTA2H7Fz_km",
        "colab_type": "text"
      },
      "source": [
        "## ***NEURAL NETWORK***"
      ]
    },
    {
      "cell_type": "code",
      "metadata": {
        "id": "MdF0LTRshcnw",
        "colab_type": "code",
        "colab": {
          "base_uri": "https://localhost:8080/",
          "height": 91
        },
        "outputId": "75df324e-75b1-4be5-ffd5-adb086fce9bf"
      },
      "source": [
        "# Parameters\n",
        "total_words=len(id2word)\n",
        "learning_rate = 0.01\n",
        "training_epochs = 10\n",
        "batch_size = 150\n",
        "display_step = 1\n",
        "\n",
        "# Network Parameters\n",
        "n_hidden_1 = 100      # 1st layer number of features\n",
        "n_hidden_2 = 100       # 2nd layer number of features\n",
        "n_input = total_words # Words in vocab\n",
        "n_classes = 4         # Categories: graphics, sci.space and baseball\n",
        "\n",
        "input_tensor = tf.placeholder(tf.float32,[None, n_input],name=\"input\")\n",
        "output_tensor = tf.placeholder(tf.float32,[None, n_classes],name=\"output\") \n",
        "\n",
        "# Store layers weight & bias\n",
        "weights = {\n",
        "    'h1': tf.Variable(tf.random_normal([n_input, n_hidden_1])),\n",
        "    'h2': tf.Variable(tf.random_normal([n_hidden_1, n_hidden_2])),\n",
        "    'out': tf.Variable(tf.random_normal([n_hidden_2, n_classes]))\n",
        "}\n",
        "biases = {\n",
        "    'b1': tf.Variable(tf.random_normal([n_hidden_1])),\n",
        "    'b2': tf.Variable(tf.random_normal([n_hidden_2])),\n",
        "    'out': tf.Variable(tf.random_normal([n_classes]))\n",
        "}\n"
      ],
      "execution_count": 22,
      "outputs": [
        {
          "output_type": "stream",
          "text": [
            "WARNING:tensorflow:From /usr/local/lib/python3.6/dist-packages/tensorflow/python/framework/op_def_library.py:263: colocate_with (from tensorflow.python.framework.ops) is deprecated and will be removed in a future version.\n",
            "Instructions for updating:\n",
            "Colocations handled automatically by placer.\n"
          ],
          "name": "stdout"
        }
      ]
    },
    {
      "cell_type": "code",
      "metadata": {
        "id": "6u--u6xGjqW1",
        "colab_type": "code",
        "outputId": "f7b17013-64dd-41b9-9da9-53789e4a74d2",
        "colab": {
          "base_uri": "https://localhost:8080/",
          "height": 181
        }
      },
      "source": [
        "# Construct model\n",
        "prediction = multilayer_perceptron_nn(input_tensor, weights, biases)\n",
        "\n",
        "# Define loss and optimizer\n",
        "loss = tf.reduce_mean(tf.nn.softmax_cross_entropy_with_logits(logits=prediction, labels=output_tensor))\n",
        "optimizer = tf.train.AdamOptimizer(learning_rate=learning_rate).minimize(loss)\n",
        "\n",
        "# Initializing the variables\n",
        "init = tf.global_variables_initializer()\n",
        "\n",
        "# [NEW] Add ops to save and restore all the variables\n",
        "saver = tf.train.Saver()"
      ],
      "execution_count": 23,
      "outputs": [
        {
          "output_type": "stream",
          "text": [
            "WARNING:tensorflow:From <ipython-input-23-cf08b6c74bed>:4: softmax_cross_entropy_with_logits (from tensorflow.python.ops.nn_ops) is deprecated and will be removed in a future version.\n",
            "Instructions for updating:\n",
            "\n",
            "Future major versions of TensorFlow will allow gradients to flow\n",
            "into the labels input on backprop by default.\n",
            "\n",
            "See `tf.nn.softmax_cross_entropy_with_logits_v2`.\n",
            "\n"
          ],
          "name": "stdout"
        }
      ]
    },
    {
      "cell_type": "code",
      "metadata": {
        "id": "xlRPxXsw7NIR",
        "colab_type": "code",
        "colab": {
          "base_uri": "https://localhost:8080/",
          "height": 251
        },
        "outputId": "9b6940a9-8449-486e-c399-f8bd87ad0119"
      },
      "source": [
        "# Launch the graph\n",
        "with tf.Session() as sess:\n",
        "    sess.run(init)\n",
        "\n",
        "    # Training cycle\n",
        "    for epoch in range(training_epochs):\n",
        "        avg_cost = 0.\n",
        "        total_batch = int(len(training_x)/batch_size)\n",
        "        # Loop over all batches\n",
        "        for i in range(total_batch):\n",
        "            batch_x = training_x[i*batch_size:i*batch_size+batch_size]\n",
        "            batch_y = training_y2[i*batch_size:i*batch_size+batch_size]\n",
        "            #batch_x,batch_y = get_batch(data1,data2,i,batch_size)\n",
        "            # Run optimization op (backprop) and cost op (to get loss value)\n",
        "            c,_ = sess.run([loss,optimizer], feed_dict={input_tensor: batch_x,output_tensor:batch_y})\n",
        "            # Compute average loss\n",
        "            avg_cost += c / total_batch\n",
        "        # Display logs per epoch step\n",
        "        if epoch % display_step == 0:\n",
        "            print(\"Epoch:\", '%04d' % (epoch+1), \"loss=\", \\\n",
        "                \"{:.9f}\".format(avg_cost))\n",
        "    print(\"Optimization Finished!\")\n",
        "\n",
        "    # Test model\n",
        "    correct_prediction = tf.equal(tf.argmax(prediction, 1), tf.argmax(output_tensor, 1))\n",
        "    # Calculate accuracy\n",
        "    accuracy = tf.reduce_mean(tf.cast(correct_prediction, \"float\"))\n",
        "    total_test_data = len(test_x)\n",
        "    batch_x_test = test_x\n",
        "    batch_y_test = test_y2\n",
        "    #batch_x_test,batch_y_test = get_batch(data3,data4,0,total_test_data)\n",
        "    print(\"Accuracy:\", accuracy.eval({input_tensor: batch_x_test, output_tensor: batch_y_test}))\n",
        "    \n",
        "    # [NEW] Save the variables to disk\n",
        "    save_path = saver.save(sess, \"/content/gdrive/My Drive/Colab Notebooks/lda2vec/out3/model.ckpt\")\n",
        "    print(\"Model saved in path: %s\" % save_path)"
      ],
      "execution_count": 24,
      "outputs": [
        {
          "output_type": "stream",
          "text": [
            "Epoch: 0001 loss= 15.807703310\n",
            "Epoch: 0002 loss= 2.458586900\n",
            "Epoch: 0003 loss= 0.763200060\n",
            "Epoch: 0004 loss= 0.308056861\n",
            "Epoch: 0005 loss= 0.180457380\n",
            "Epoch: 0006 loss= 0.106763697\n",
            "Epoch: 0007 loss= 0.092465905\n",
            "Epoch: 0008 loss= 0.088781126\n",
            "Epoch: 0009 loss= 0.080630335\n",
            "Epoch: 0010 loss= 0.084163730\n",
            "Optimization Finished!\n",
            "Accuracy: 0.86616164\n",
            "Model saved in path: /content/gdrive/My Drive/Colab Notebooks/lda2vec/out3/model.ckpt\n"
          ],
          "name": "stdout"
        }
      ]
    },
    {
      "cell_type": "code",
      "metadata": {
        "id": "kj-eCM-BjsHj",
        "colab_type": "code",
        "outputId": "3716a1b2-59b8-4fab-bde8-6e1da350e3e4",
        "colab": {
          "base_uri": "https://localhost:8080/",
          "height": 238
        }
      },
      "source": [
        "# Launch the graph\n",
        "with tf.Session() as sess:\n",
        "    sess.run(init)\n",
        "\n",
        "    # Training cycle\n",
        "    for epoch in range(training_epochs):\n",
        "        avg_cost = 0.\n",
        "        total_batch = int(len(training_x)/batch_size)\n",
        "        # Loop over all batches\n",
        "        for i in range(total_batch):\n",
        "            batch_x = training_x[i*batch_size:i*batch_size+batch_size]\n",
        "            batch_y = training_y2[i*batch_size:i*batch_size+batch_size]\n",
        "            #batch_x,batch_y = get_batch(data1,data2,i,batch_size)\n",
        "            # Run optimization op (backprop) and cost op (to get loss value)\n",
        "            c,_ = sess.run([loss,optimizer], feed_dict={input_tensor: batch_x,output_tensor:batch_y})\n",
        "            # Compute average loss\n",
        "            avg_cost += c / total_batch\n",
        "        # Display logs per epoch step\n",
        "        if epoch % display_step == 0:\n",
        "            print(\"Epoch:\", '%04d' % (epoch+1), \"loss=\", \\\n",
        "                \"{:.9f}\".format(avg_cost))\n",
        "    print(\"Optimization Finished!\")\n",
        "\n",
        "    # Test model\n",
        "    correct_prediction = tf.equal(tf.argmax(prediction, 1), tf.argmax(output_tensor, 1))\n",
        "    # Calculate accuracy\n",
        "    accuracy = tf.reduce_mean(tf.cast(correct_prediction, \"float\"))\n",
        "    total_test_data = len(test_x)\n",
        "    batch_x_test = test_x\n",
        "    batch_y_test = test_y2\n",
        "    #batch_x_test,batch_y_test = get_batch(data3,data4,0,total_test_data)\n",
        "    print(\"Accuracy:\", accuracy.eval({input_tensor: batch_x_test, output_tensor: batch_y_test}))\n",
        "    \n",
        "    # [NEW] Save the variables to disk\n",
        "    save_path = saver.save(sess, \"/content/gdrive/My Drive/Colab Notebooks/lda2vec/out3/model.ckpt\")\n",
        "    print(\"Model saved in path: %s\" % save_path)"
      ],
      "execution_count": 0,
      "outputs": [
        {
          "output_type": "stream",
          "text": [
            "Epoch: 0001 loss= 14.494594693\n",
            "Epoch: 0002 loss= 1.940452454\n",
            "Epoch: 0003 loss= 0.670429077\n",
            "Epoch: 0004 loss= 0.379005704\n",
            "Epoch: 0005 loss= 0.250119595\n",
            "Epoch: 0006 loss= 0.255800504\n",
            "Epoch: 0007 loss= 0.229102412\n",
            "Epoch: 0008 loss= 0.257529512\n",
            "Epoch: 0009 loss= 0.229601459\n",
            "Epoch: 0010 loss= 0.238927464\n",
            "Optimization Finished!\n",
            "Accuracy: 0.9318182\n",
            "Model saved in path: /content/gdrive/My Drive/Colab Notebooks/lda2vec/out3/model.ckpt\n"
          ],
          "name": "stdout"
        }
      ]
    },
    {
      "cell_type": "code",
      "metadata": {
        "id": "-Ie2lJYFicdF",
        "colab_type": "code",
        "outputId": "43b7da58-6bd9-4ebf-ae0b-4525b311589f",
        "colab": {
          "base_uri": "https://localhost:8080/",
          "height": 145
        }
      },
      "source": [
        "saver = tf.train.Saver()\n",
        "\n",
        "with tf.Session() as sess:\n",
        "    saver.restore(sess, \"/content/gdrive/My Drive/Colab Notebooks/lda2vec/out3/model.ckpt\")\n",
        "    print(\"Model restored.\")\n",
        "    \n",
        "    classification = sess.run(tf.argmax(prediction, 1), feed_dict={input_tensor: test_x})\n",
        "    print(\"Predicted categories:\", classification)"
      ],
      "execution_count": 25,
      "outputs": [
        {
          "output_type": "stream",
          "text": [
            "WARNING:tensorflow:From /usr/local/lib/python3.6/dist-packages/tensorflow/python/training/saver.py:1266: checkpoint_exists (from tensorflow.python.training.checkpoint_management) is deprecated and will be removed in a future version.\n",
            "Instructions for updating:\n",
            "Use standard file APIs to check for files with this prefix.\n",
            "INFO:tensorflow:Restoring parameters from /content/gdrive/My Drive/Colab Notebooks/lda2vec/out3/model.ckpt\n",
            "Model restored.\n",
            "Predicted categories: [3 0 0 ... 2 0 3]\n"
          ],
          "name": "stdout"
        }
      ]
    },
    {
      "cell_type": "markdown",
      "metadata": {
        "id": "hAF-gCDn0ogE",
        "colab_type": "text"
      },
      "source": [
        "## ***SVM***"
      ]
    },
    {
      "cell_type": "code",
      "metadata": {
        "id": "WUQ0IktDAFw2",
        "colab_type": "code",
        "outputId": "4e3ad4e6-48a8-4fe7-fbb8-9ba8c8121585",
        "colab": {
          "base_uri": "https://localhost:8080/",
          "height": 53
        }
      },
      "source": [
        "from sklearn import svm\n",
        "\n",
        "clf_top=svm.SVC(kernel='linear',C=0.1,decision_function_shape='ovr')\n",
        "clf_top.fit(training_x,training_y1)\n",
        "\n",
        "y_predsvm = clf_top.predict(test_x)\n",
        "\n",
        "train_acc=clf_top.score(training_x,training_y1)\n",
        "test_acc=clf_top.score(test_x,test_y1)\n",
        "\n",
        "print(train_acc*100)\n",
        "print(test_acc*100)"
      ],
      "execution_count": 20,
      "outputs": [
        {
          "output_type": "stream",
          "text": [
            "91.7860151642797\n",
            "89.56228956228956\n"
          ],
          "name": "stdout"
        }
      ]
    },
    {
      "cell_type": "code",
      "metadata": {
        "id": "N_7ipBUbo_OU",
        "colab_type": "code",
        "outputId": "42ab8c7b-2382-4a65-9466-8d8f4c5c7d80",
        "colab": {
          "base_uri": "https://localhost:8080/",
          "height": 51
        }
      },
      "source": [
        "from sklearn import svm\n",
        "\n",
        "clf_top=svm.SVC(kernel='linear',C=0.1,decision_function_shape='ovr')\n",
        "clf_top.fit(training,training_y1)\n",
        "\n",
        "y_predsvm = clf_top.predict(test)\n",
        "\n",
        "train_acc=clf_top.score(training,training_y1)\n",
        "test_acc=clf_top.score(test,test_y1)\n",
        "\n",
        "print(train_acc*100)\n",
        "print(test_acc*100)"
      ],
      "execution_count": 0,
      "outputs": [
        {
          "output_type": "stream",
          "text": [
            "97.64111204717776\n",
            "96.04377104377105\n"
          ],
          "name": "stdout"
        }
      ]
    },
    {
      "cell_type": "markdown",
      "metadata": {
        "id": "--_9_TrmCnfT",
        "colab_type": "text"
      },
      "source": [
        "## ***NAIVE BAYES***"
      ]
    },
    {
      "cell_type": "code",
      "metadata": {
        "id": "AsntI-8MreDo",
        "colab_type": "code",
        "colab": {}
      },
      "source": [
        "#Import Gaussian Naive Bayes model\n",
        "from sklearn.naive_bayes import GaussianNB\n",
        "\n",
        "#Create a Gaussian Classifier\n",
        "gnb = GaussianNB()\n",
        "\n",
        "#Train the model using the training sets\n",
        "gnb.fit(training, training_y1)\n",
        "\n",
        "#Predict the response for test dataset\n",
        "y_pred = gnb.predict(test)"
      ],
      "execution_count": 0,
      "outputs": []
    },
    {
      "cell_type": "code",
      "metadata": {
        "id": "F-4agcmNrgYj",
        "colab_type": "code",
        "outputId": "e8a08850-37b9-41cb-9018-08cd3b8a413c",
        "colab": {
          "base_uri": "https://localhost:8080/",
          "height": 34
        }
      },
      "source": [
        "#Import scikit-learn metrics module for accuracy calculation\n",
        "from sklearn import metrics\n",
        "\n",
        "# Model Accuracy, how often is the classifier correct?\n",
        "print(\"Accuracy:\",metrics.accuracy_score(test_y1, y_pred))"
      ],
      "execution_count": 0,
      "outputs": [
        {
          "output_type": "stream",
          "text": [
            "Accuracy: 0.5673400673400674\n"
          ],
          "name": "stdout"
        }
      ]
    },
    {
      "cell_type": "markdown",
      "metadata": {
        "id": "SFbqVimBGP4j",
        "colab_type": "text"
      },
      "source": [
        "## ***ERROR GRAPHS***"
      ]
    },
    {
      "cell_type": "code",
      "metadata": {
        "id": "AmJzfkj5F3Zg",
        "colab_type": "code",
        "outputId": "d84af5c7-b41a-4f1e-dd46-ee9ffb12b44c",
        "colab": {
          "base_uri": "https://localhost:8080/",
          "height": 716
        }
      },
      "source": [
        "graph_error_models(test_y1,y_pred)"
      ],
      "execution_count": 0,
      "outputs": [
        {
          "output_type": "display_data",
          "data": {
            "image/png": "[encoded data removed]",
            "text/plain": [
              "<Figure size 720x864 with 4 Axes>"
            ]
          },
          "metadata": {
            "tags": []
          }
        }
      ]
    },
    {
      "cell_type": "code",
      "metadata": {
        "id": "v1hQYzByKe5b",
        "colab_type": "code",
        "outputId": "21665b0a-19af-49d6-9bf3-75baba4cb598",
        "colab": {
          "base_uri": "https://localhost:8080/",
          "height": 717
        }
      },
      "source": [
        "graph_error_models(test_y1,y_predsvm)"
      ],
      "execution_count": 21,
      "outputs": [
        {
          "output_type": "display_data",
          "data": {
            "image/png": "[encoded data removed]",
            "text/plain": [
              "<Figure size 720x864 with 4 Axes>"
            ]
          },
          "metadata": {
            "tags": []
          }
        }
      ]
    },
    {
      "cell_type": "code",
      "metadata": {
        "id": "CLtDmNn3cfBV",
        "colab_type": "code",
        "colab": {
          "base_uri": "https://localhost:8080/",
          "height": 717
        },
        "outputId": "8012bbf7-50b7-4c74-8509-72cff8d1f7fa"
      },
      "source": [
        "graph_error_models(test_y1,classification)"
      ],
      "execution_count": 26,
      "outputs": [
        {
          "output_type": "display_data",
          "data": {
            "image/png": "[encoded data removed]",
            "text/plain": [
              "<Figure size 720x864 with 4 Axes>"
            ]
          },
          "metadata": {
            "tags": []
          }
        }
      ]
    },
    {
      "cell_type": "code",
      "metadata": {
        "id": "KBui57A0PLRZ",
        "colab_type": "code",
        "outputId": "bb92db3c-93f2-4e1d-96a7-bd68af40e252",
        "colab": {
          "base_uri": "https://localhost:8080/",
          "height": 716
        }
      },
      "source": [
        "graph_error_models(test_y1,classification)"
      ],
      "execution_count": 0,
      "outputs": [
        {
          "output_type": "display_data",
          "data": {
            "image/png": "[encoded data removed]",
            "text/plain": [
              "<Figure size 720x864 with 4 Axes>"
            ]
          },
          "metadata": {
            "tags": []
          }
        }
      ]
    }
  ]
}